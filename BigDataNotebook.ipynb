{
 "cells": [
  {
   "cell_type": "code",
   "id": "84289253bfd4bc7d",
   "metadata": {
    "ExecuteTime": {
     "end_time": "2025-03-21T00:25:37.375849Z",
     "start_time": "2025-03-21T00:25:37.369241Z"
    }
   },
   "source": [
    "import os\n",
    "import pandas as pd\n",
    "from google.cloud import bigquery\n",
    "import db_dtypes"
   ],
   "outputs": [],
   "execution_count": 5
  },
  {
   "cell_type": "code",
   "id": "initial_id",
   "metadata": {
    "collapsed": true,
    "ExecuteTime": {
     "end_time": "2025-03-21T00:25:37.510874Z",
     "start_time": "2025-03-21T00:25:37.404683Z"
    }
   },
   "source": [
    "\n",
    "os.environ[\n",
    "    \"GOOGLE_APPLICATION_CREDENTIALS\"] = \"the-webbing-454111-s0-9a04cc92eadc.json\"  # lokalizacja pobranego klucza z punktu 1.4.\n",
    "client = bigquery.Client()\n",
    "\n"
   ],
   "outputs": [],
   "execution_count": 6
  },
  {
   "cell_type": "code",
   "id": "2c78fe9a0e1c39c",
   "metadata": {
    "ExecuteTime": {
     "end_time": "2025-03-21T00:25:42.152841Z",
     "start_time": "2025-03-21T00:25:37.523913Z"
    }
   },
   "source": [
    "query = (\n",
    "    'select * from bigquery-public-data.covid19_open_data.covid19_open_data limit 10')\n",
    "query_job = client.query(query)\n",
    "query_result = query_job.result()\n",
    "df = query_result.to_dataframe(bqstorage_client=None)\n",
    "df"
   ],
   "outputs": [
    {
     "data": {
      "text/plain": [
       "  location_key        date                     place_id wikidata_id  \\\n",
       "0           AR  2022-03-30  ChIJZ8b99fXKvJURqA_wKpl3Lz0        Q414   \n",
       "1           AR  2020-04-28  ChIJZ8b99fXKvJURqA_wKpl3Lz0        Q414   \n",
       "2           AR  2020-08-15  ChIJZ8b99fXKvJURqA_wKpl3Lz0        Q414   \n",
       "3           AR  2021-03-26  ChIJZ8b99fXKvJURqA_wKpl3Lz0        Q414   \n",
       "4           AR  2020-11-05  ChIJZ8b99fXKvJURqA_wKpl3Lz0        Q414   \n",
       "5           AR  2020-10-31  ChIJZ8b99fXKvJURqA_wKpl3Lz0        Q414   \n",
       "6           AR  2020-06-06  ChIJZ8b99fXKvJURqA_wKpl3Lz0        Q414   \n",
       "7           AR  2021-02-04  ChIJZ8b99fXKvJURqA_wKpl3Lz0        Q414   \n",
       "8           BR  2020-12-19  ChIJzyjM68dZnAARYz4p8gYVWik        Q155   \n",
       "9           BR  2020-07-30  ChIJzyjM68dZnAARYz4p8gYVWik        Q155   \n",
       "\n",
       "  datacommons_id country_code country_name iso_3166_1_alpha_2  \\\n",
       "0    country/ARG           AR    Argentina                 AR   \n",
       "1    country/ARG           AR    Argentina                 AR   \n",
       "2    country/ARG           AR    Argentina                 AR   \n",
       "3    country/ARG           AR    Argentina                 AR   \n",
       "4    country/ARG           AR    Argentina                 AR   \n",
       "5    country/ARG           AR    Argentina                 AR   \n",
       "6    country/ARG           AR    Argentina                 AR   \n",
       "7    country/ARG           AR    Argentina                 AR   \n",
       "8    country/BRA           BR       Brazil                 BR   \n",
       "9    country/BRA           BR       Brazil                 BR   \n",
       "\n",
       "  iso_3166_1_alpha_3  aggregation_level  ...  \\\n",
       "0                ARG                  0  ...   \n",
       "1                ARG                  0  ...   \n",
       "2                ARG                  0  ...   \n",
       "3                ARG                  0  ...   \n",
       "4                ARG                  0  ...   \n",
       "5                ARG                  0  ...   \n",
       "6                ARG                  0  ...   \n",
       "7                ARG                  0  ...   \n",
       "8                BRA                  0  ...   \n",
       "9                BRA                  0  ...   \n",
       "\n",
       "   cumulative_vaccine_doses_administered_pfizer  \\\n",
       "0                                          <NA>   \n",
       "1                                          <NA>   \n",
       "2                                          <NA>   \n",
       "3                                          <NA>   \n",
       "4                                          <NA>   \n",
       "5                                          <NA>   \n",
       "6                                          <NA>   \n",
       "7                                          <NA>   \n",
       "8                                          <NA>   \n",
       "9                                          <NA>   \n",
       "\n",
       "   new_persons_fully_vaccinated_moderna  \\\n",
       "0                                  <NA>   \n",
       "1                                  <NA>   \n",
       "2                                  <NA>   \n",
       "3                                  <NA>   \n",
       "4                                  <NA>   \n",
       "5                                  <NA>   \n",
       "6                                  <NA>   \n",
       "7                                  <NA>   \n",
       "8                                  <NA>   \n",
       "9                                  <NA>   \n",
       "\n",
       "   cumulative_persons_fully_vaccinated_moderna  \\\n",
       "0                                         <NA>   \n",
       "1                                         <NA>   \n",
       "2                                         <NA>   \n",
       "3                                         <NA>   \n",
       "4                                         <NA>   \n",
       "5                                         <NA>   \n",
       "6                                         <NA>   \n",
       "7                                         <NA>   \n",
       "8                                         <NA>   \n",
       "9                                         <NA>   \n",
       "\n",
       "   new_vaccine_doses_administered_moderna  \\\n",
       "0                                    <NA>   \n",
       "1                                    <NA>   \n",
       "2                                    <NA>   \n",
       "3                                    <NA>   \n",
       "4                                    <NA>   \n",
       "5                                    <NA>   \n",
       "6                                    <NA>   \n",
       "7                                    <NA>   \n",
       "8                                    <NA>   \n",
       "9                                    <NA>   \n",
       "\n",
       "   cumulative_vaccine_doses_administered_moderna  \\\n",
       "0                                           <NA>   \n",
       "1                                           <NA>   \n",
       "2                                           <NA>   \n",
       "3                                           <NA>   \n",
       "4                                           <NA>   \n",
       "5                                           <NA>   \n",
       "6                                           <NA>   \n",
       "7                                           <NA>   \n",
       "8                                           <NA>   \n",
       "9                                           <NA>   \n",
       "\n",
       "   new_persons_fully_vaccinated_janssen  \\\n",
       "0                                  <NA>   \n",
       "1                                  <NA>   \n",
       "2                                  <NA>   \n",
       "3                                  <NA>   \n",
       "4                                  <NA>   \n",
       "5                                  <NA>   \n",
       "6                                  <NA>   \n",
       "7                                  <NA>   \n",
       "8                                  <NA>   \n",
       "9                                  <NA>   \n",
       "\n",
       "   cumulative_persons_fully_vaccinated_janssen  \\\n",
       "0                                         <NA>   \n",
       "1                                         <NA>   \n",
       "2                                         <NA>   \n",
       "3                                         <NA>   \n",
       "4                                         <NA>   \n",
       "5                                         <NA>   \n",
       "6                                         <NA>   \n",
       "7                                         <NA>   \n",
       "8                                         <NA>   \n",
       "9                                         <NA>   \n",
       "\n",
       "   new_vaccine_doses_administered_janssen  \\\n",
       "0                                    <NA>   \n",
       "1                                    <NA>   \n",
       "2                                    <NA>   \n",
       "3                                    <NA>   \n",
       "4                                    <NA>   \n",
       "5                                    <NA>   \n",
       "6                                    <NA>   \n",
       "7                                    <NA>   \n",
       "8                                    <NA>   \n",
       "9                                    <NA>   \n",
       "\n",
       "   cumulative_vaccine_doses_administered_janssen  location_geometry  \n",
       "0                                           <NA>     POINT(-64 -34)  \n",
       "1                                           <NA>     POINT(-64 -34)  \n",
       "2                                           <NA>     POINT(-64 -34)  \n",
       "3                                           <NA>     POINT(-64 -34)  \n",
       "4                                           <NA>     POINT(-64 -34)  \n",
       "5                                           <NA>     POINT(-64 -34)  \n",
       "6                                           <NA>     POINT(-64 -34)  \n",
       "7                                           <NA>     POINT(-64 -34)  \n",
       "8                                           <NA>     POINT(-53 -14)  \n",
       "9                                           <NA>     POINT(-53 -14)  \n",
       "\n",
       "[10 rows x 701 columns]"
      ],
      "text/html": [
       "<div>\n",
       "<style scoped>\n",
       "    .dataframe tbody tr th:only-of-type {\n",
       "        vertical-align: middle;\n",
       "    }\n",
       "\n",
       "    .dataframe tbody tr th {\n",
       "        vertical-align: top;\n",
       "    }\n",
       "\n",
       "    .dataframe thead th {\n",
       "        text-align: right;\n",
       "    }\n",
       "</style>\n",
       "<table border=\"1\" class=\"dataframe\">\n",
       "  <thead>\n",
       "    <tr style=\"text-align: right;\">\n",
       "      <th></th>\n",
       "      <th>location_key</th>\n",
       "      <th>date</th>\n",
       "      <th>place_id</th>\n",
       "      <th>wikidata_id</th>\n",
       "      <th>datacommons_id</th>\n",
       "      <th>country_code</th>\n",
       "      <th>country_name</th>\n",
       "      <th>iso_3166_1_alpha_2</th>\n",
       "      <th>iso_3166_1_alpha_3</th>\n",
       "      <th>aggregation_level</th>\n",
       "      <th>...</th>\n",
       "      <th>cumulative_vaccine_doses_administered_pfizer</th>\n",
       "      <th>new_persons_fully_vaccinated_moderna</th>\n",
       "      <th>cumulative_persons_fully_vaccinated_moderna</th>\n",
       "      <th>new_vaccine_doses_administered_moderna</th>\n",
       "      <th>cumulative_vaccine_doses_administered_moderna</th>\n",
       "      <th>new_persons_fully_vaccinated_janssen</th>\n",
       "      <th>cumulative_persons_fully_vaccinated_janssen</th>\n",
       "      <th>new_vaccine_doses_administered_janssen</th>\n",
       "      <th>cumulative_vaccine_doses_administered_janssen</th>\n",
       "      <th>location_geometry</th>\n",
       "    </tr>\n",
       "  </thead>\n",
       "  <tbody>\n",
       "    <tr>\n",
       "      <th>0</th>\n",
       "      <td>AR</td>\n",
       "      <td>2022-03-30</td>\n",
       "      <td>ChIJZ8b99fXKvJURqA_wKpl3Lz0</td>\n",
       "      <td>Q414</td>\n",
       "      <td>country/ARG</td>\n",
       "      <td>AR</td>\n",
       "      <td>Argentina</td>\n",
       "      <td>AR</td>\n",
       "      <td>ARG</td>\n",
       "      <td>0</td>\n",
       "      <td>...</td>\n",
       "      <td>&lt;NA&gt;</td>\n",
       "      <td>&lt;NA&gt;</td>\n",
       "      <td>&lt;NA&gt;</td>\n",
       "      <td>&lt;NA&gt;</td>\n",
       "      <td>&lt;NA&gt;</td>\n",
       "      <td>&lt;NA&gt;</td>\n",
       "      <td>&lt;NA&gt;</td>\n",
       "      <td>&lt;NA&gt;</td>\n",
       "      <td>&lt;NA&gt;</td>\n",
       "      <td>POINT(-64 -34)</td>\n",
       "    </tr>\n",
       "    <tr>\n",
       "      <th>1</th>\n",
       "      <td>AR</td>\n",
       "      <td>2020-04-28</td>\n",
       "      <td>ChIJZ8b99fXKvJURqA_wKpl3Lz0</td>\n",
       "      <td>Q414</td>\n",
       "      <td>country/ARG</td>\n",
       "      <td>AR</td>\n",
       "      <td>Argentina</td>\n",
       "      <td>AR</td>\n",
       "      <td>ARG</td>\n",
       "      <td>0</td>\n",
       "      <td>...</td>\n",
       "      <td>&lt;NA&gt;</td>\n",
       "      <td>&lt;NA&gt;</td>\n",
       "      <td>&lt;NA&gt;</td>\n",
       "      <td>&lt;NA&gt;</td>\n",
       "      <td>&lt;NA&gt;</td>\n",
       "      <td>&lt;NA&gt;</td>\n",
       "      <td>&lt;NA&gt;</td>\n",
       "      <td>&lt;NA&gt;</td>\n",
       "      <td>&lt;NA&gt;</td>\n",
       "      <td>POINT(-64 -34)</td>\n",
       "    </tr>\n",
       "    <tr>\n",
       "      <th>2</th>\n",
       "      <td>AR</td>\n",
       "      <td>2020-08-15</td>\n",
       "      <td>ChIJZ8b99fXKvJURqA_wKpl3Lz0</td>\n",
       "      <td>Q414</td>\n",
       "      <td>country/ARG</td>\n",
       "      <td>AR</td>\n",
       "      <td>Argentina</td>\n",
       "      <td>AR</td>\n",
       "      <td>ARG</td>\n",
       "      <td>0</td>\n",
       "      <td>...</td>\n",
       "      <td>&lt;NA&gt;</td>\n",
       "      <td>&lt;NA&gt;</td>\n",
       "      <td>&lt;NA&gt;</td>\n",
       "      <td>&lt;NA&gt;</td>\n",
       "      <td>&lt;NA&gt;</td>\n",
       "      <td>&lt;NA&gt;</td>\n",
       "      <td>&lt;NA&gt;</td>\n",
       "      <td>&lt;NA&gt;</td>\n",
       "      <td>&lt;NA&gt;</td>\n",
       "      <td>POINT(-64 -34)</td>\n",
       "    </tr>\n",
       "    <tr>\n",
       "      <th>3</th>\n",
       "      <td>AR</td>\n",
       "      <td>2021-03-26</td>\n",
       "      <td>ChIJZ8b99fXKvJURqA_wKpl3Lz0</td>\n",
       "      <td>Q414</td>\n",
       "      <td>country/ARG</td>\n",
       "      <td>AR</td>\n",
       "      <td>Argentina</td>\n",
       "      <td>AR</td>\n",
       "      <td>ARG</td>\n",
       "      <td>0</td>\n",
       "      <td>...</td>\n",
       "      <td>&lt;NA&gt;</td>\n",
       "      <td>&lt;NA&gt;</td>\n",
       "      <td>&lt;NA&gt;</td>\n",
       "      <td>&lt;NA&gt;</td>\n",
       "      <td>&lt;NA&gt;</td>\n",
       "      <td>&lt;NA&gt;</td>\n",
       "      <td>&lt;NA&gt;</td>\n",
       "      <td>&lt;NA&gt;</td>\n",
       "      <td>&lt;NA&gt;</td>\n",
       "      <td>POINT(-64 -34)</td>\n",
       "    </tr>\n",
       "    <tr>\n",
       "      <th>4</th>\n",
       "      <td>AR</td>\n",
       "      <td>2020-11-05</td>\n",
       "      <td>ChIJZ8b99fXKvJURqA_wKpl3Lz0</td>\n",
       "      <td>Q414</td>\n",
       "      <td>country/ARG</td>\n",
       "      <td>AR</td>\n",
       "      <td>Argentina</td>\n",
       "      <td>AR</td>\n",
       "      <td>ARG</td>\n",
       "      <td>0</td>\n",
       "      <td>...</td>\n",
       "      <td>&lt;NA&gt;</td>\n",
       "      <td>&lt;NA&gt;</td>\n",
       "      <td>&lt;NA&gt;</td>\n",
       "      <td>&lt;NA&gt;</td>\n",
       "      <td>&lt;NA&gt;</td>\n",
       "      <td>&lt;NA&gt;</td>\n",
       "      <td>&lt;NA&gt;</td>\n",
       "      <td>&lt;NA&gt;</td>\n",
       "      <td>&lt;NA&gt;</td>\n",
       "      <td>POINT(-64 -34)</td>\n",
       "    </tr>\n",
       "    <tr>\n",
       "      <th>5</th>\n",
       "      <td>AR</td>\n",
       "      <td>2020-10-31</td>\n",
       "      <td>ChIJZ8b99fXKvJURqA_wKpl3Lz0</td>\n",
       "      <td>Q414</td>\n",
       "      <td>country/ARG</td>\n",
       "      <td>AR</td>\n",
       "      <td>Argentina</td>\n",
       "      <td>AR</td>\n",
       "      <td>ARG</td>\n",
       "      <td>0</td>\n",
       "      <td>...</td>\n",
       "      <td>&lt;NA&gt;</td>\n",
       "      <td>&lt;NA&gt;</td>\n",
       "      <td>&lt;NA&gt;</td>\n",
       "      <td>&lt;NA&gt;</td>\n",
       "      <td>&lt;NA&gt;</td>\n",
       "      <td>&lt;NA&gt;</td>\n",
       "      <td>&lt;NA&gt;</td>\n",
       "      <td>&lt;NA&gt;</td>\n",
       "      <td>&lt;NA&gt;</td>\n",
       "      <td>POINT(-64 -34)</td>\n",
       "    </tr>\n",
       "    <tr>\n",
       "      <th>6</th>\n",
       "      <td>AR</td>\n",
       "      <td>2020-06-06</td>\n",
       "      <td>ChIJZ8b99fXKvJURqA_wKpl3Lz0</td>\n",
       "      <td>Q414</td>\n",
       "      <td>country/ARG</td>\n",
       "      <td>AR</td>\n",
       "      <td>Argentina</td>\n",
       "      <td>AR</td>\n",
       "      <td>ARG</td>\n",
       "      <td>0</td>\n",
       "      <td>...</td>\n",
       "      <td>&lt;NA&gt;</td>\n",
       "      <td>&lt;NA&gt;</td>\n",
       "      <td>&lt;NA&gt;</td>\n",
       "      <td>&lt;NA&gt;</td>\n",
       "      <td>&lt;NA&gt;</td>\n",
       "      <td>&lt;NA&gt;</td>\n",
       "      <td>&lt;NA&gt;</td>\n",
       "      <td>&lt;NA&gt;</td>\n",
       "      <td>&lt;NA&gt;</td>\n",
       "      <td>POINT(-64 -34)</td>\n",
       "    </tr>\n",
       "    <tr>\n",
       "      <th>7</th>\n",
       "      <td>AR</td>\n",
       "      <td>2021-02-04</td>\n",
       "      <td>ChIJZ8b99fXKvJURqA_wKpl3Lz0</td>\n",
       "      <td>Q414</td>\n",
       "      <td>country/ARG</td>\n",
       "      <td>AR</td>\n",
       "      <td>Argentina</td>\n",
       "      <td>AR</td>\n",
       "      <td>ARG</td>\n",
       "      <td>0</td>\n",
       "      <td>...</td>\n",
       "      <td>&lt;NA&gt;</td>\n",
       "      <td>&lt;NA&gt;</td>\n",
       "      <td>&lt;NA&gt;</td>\n",
       "      <td>&lt;NA&gt;</td>\n",
       "      <td>&lt;NA&gt;</td>\n",
       "      <td>&lt;NA&gt;</td>\n",
       "      <td>&lt;NA&gt;</td>\n",
       "      <td>&lt;NA&gt;</td>\n",
       "      <td>&lt;NA&gt;</td>\n",
       "      <td>POINT(-64 -34)</td>\n",
       "    </tr>\n",
       "    <tr>\n",
       "      <th>8</th>\n",
       "      <td>BR</td>\n",
       "      <td>2020-12-19</td>\n",
       "      <td>ChIJzyjM68dZnAARYz4p8gYVWik</td>\n",
       "      <td>Q155</td>\n",
       "      <td>country/BRA</td>\n",
       "      <td>BR</td>\n",
       "      <td>Brazil</td>\n",
       "      <td>BR</td>\n",
       "      <td>BRA</td>\n",
       "      <td>0</td>\n",
       "      <td>...</td>\n",
       "      <td>&lt;NA&gt;</td>\n",
       "      <td>&lt;NA&gt;</td>\n",
       "      <td>&lt;NA&gt;</td>\n",
       "      <td>&lt;NA&gt;</td>\n",
       "      <td>&lt;NA&gt;</td>\n",
       "      <td>&lt;NA&gt;</td>\n",
       "      <td>&lt;NA&gt;</td>\n",
       "      <td>&lt;NA&gt;</td>\n",
       "      <td>&lt;NA&gt;</td>\n",
       "      <td>POINT(-53 -14)</td>\n",
       "    </tr>\n",
       "    <tr>\n",
       "      <th>9</th>\n",
       "      <td>BR</td>\n",
       "      <td>2020-07-30</td>\n",
       "      <td>ChIJzyjM68dZnAARYz4p8gYVWik</td>\n",
       "      <td>Q155</td>\n",
       "      <td>country/BRA</td>\n",
       "      <td>BR</td>\n",
       "      <td>Brazil</td>\n",
       "      <td>BR</td>\n",
       "      <td>BRA</td>\n",
       "      <td>0</td>\n",
       "      <td>...</td>\n",
       "      <td>&lt;NA&gt;</td>\n",
       "      <td>&lt;NA&gt;</td>\n",
       "      <td>&lt;NA&gt;</td>\n",
       "      <td>&lt;NA&gt;</td>\n",
       "      <td>&lt;NA&gt;</td>\n",
       "      <td>&lt;NA&gt;</td>\n",
       "      <td>&lt;NA&gt;</td>\n",
       "      <td>&lt;NA&gt;</td>\n",
       "      <td>&lt;NA&gt;</td>\n",
       "      <td>POINT(-53 -14)</td>\n",
       "    </tr>\n",
       "  </tbody>\n",
       "</table>\n",
       "<p>10 rows × 701 columns</p>\n",
       "</div>"
      ]
     },
     "execution_count": 7,
     "metadata": {},
     "output_type": "execute_result"
    }
   ],
   "execution_count": 7
  },
  {
   "metadata": {},
   "cell_type": "markdown",
   "source": [
    "Część 3\n",
    "Zapoznaj się z informacjami o danych na temat COVID-19, m.in.:\n"
   ],
   "id": "fe1e1526737358e6"
  },
  {
   "metadata": {},
   "cell_type": "markdown",
   "source": " 3.1. Sprawdź, ile jest zapisanych wierszy z danymi. \n",
   "id": "2325acffbe86ef41"
  },
  {
   "metadata": {
    "ExecuteTime": {
     "end_time": "2025-03-21T00:25:44.619743Z",
     "start_time": "2025-03-21T00:25:42.332137Z"
    }
   },
   "cell_type": "code",
   "source": [
    "query = \"SELECT COUNT(*) FROM `bigquery-public-data.covid19_open_data.covid19_open_data`\"\n",
    "\n",
    "query_count = client.query(query)\n",
    "query_count_result = query_count.result()\n",
    "print(query_count_result.to_dataframe())"
   ],
   "id": "c3adcd86",
   "outputs": [
    {
     "name": "stdout",
     "output_type": "stream",
     "text": [
      "        f0_\n",
      "0  22756333\n"
     ]
    }
   ],
   "execution_count": 8
  },
  {
   "metadata": {},
   "cell_type": "markdown",
   "source": " 3.2. Sprawdź, ile krajów jest uwzględnionych w danych.",
   "id": "b763a66c37d4a61b"
  },
  {
   "metadata": {
    "ExecuteTime": {
     "end_time": "2025-03-21T00:25:47.627612Z",
     "start_time": "2025-03-21T00:25:44.854424Z"
    }
   },
   "cell_type": "code",
   "source": [
    "query = \"SELECT COUNT(DISTINCT country_name) FROM `bigquery-public-data.covid19_open_data.covid19_open_data` \"\n",
    "\n",
    "query_count_distinct_countries = client.query(query)\n",
    "query_count_distinct_countries_result = query_count_distinct_countries.result()\n",
    "print(query_count_distinct_countries_result.to_dataframe())"
   ],
   "id": "c4de257d7b106ee3",
   "outputs": [
    {
     "name": "stdout",
     "output_type": "stream",
     "text": [
      "   f0_\n",
      "0  246\n"
     ]
    }
   ],
   "execution_count": 9
  },
  {
   "metadata": {},
   "cell_type": "markdown",
   "source": [
    " 3.3. Sprawdź, w jaki sposób zapisywane są dzienne informacje dla krajów. <br /> \n",
    " 3.4. Sprawdź, w jaki sposób zapisywane są wartości liczbowe.  \n",
    "\n"
   ],
   "id": "c21d4cbc7802f4bb"
  },
  {
   "metadata": {
    "ExecuteTime": {
     "end_time": "2025-03-21T00:25:50.092885Z",
     "start_time": "2025-03-21T00:25:47.722895Z"
    }
   },
   "cell_type": "code",
   "source": [
    "query = \"SELECT DISTINCT new_confirmed FROM `bigquery-public-data.covid19_open_data.covid19_open_data` WHERE new_confirmed BETWEEN -5 AND 5 \"\n",
    "query_type_of_daily = client.query(query)\n",
    "query_type_of_daily_result = query_type_of_daily.result()\n",
    "print(query_type_of_daily_result.to_dataframe())\n",
    "# To pokazuje ze dzienne zmiany zachorowan moga byc ujemne! (poprawki dotyczace poprzednich dni)\n",
    "# Wartosci przechowywane sa w postaci Integerow."
   ],
   "id": "a179273f35deecf8",
   "outputs": [
    {
     "name": "stdout",
     "output_type": "stream",
     "text": [
      "    new_confirmed\n",
      "0               3\n",
      "1               5\n",
      "2               1\n",
      "3               0\n",
      "4              -5\n",
      "5              -3\n",
      "6               4\n",
      "7              -1\n",
      "8               2\n",
      "9              -2\n",
      "10             -4\n"
     ]
    }
   ],
   "execution_count": 10
  },
  {
   "metadata": {
    "ExecuteTime": {
     "end_time": "2025-03-21T00:25:55.085211Z",
     "start_time": "2025-03-21T00:25:50.122955Z"
    }
   },
   "cell_type": "code",
   "source": [
    "query = \"SELECT SUM(new_confirmed) AS sum_of_confirmed, MAX(date) as date FROM `bigquery-public-data.covid19_open_data.covid19_open_data` WHERE (aggregation_level = 0) AND (iso_3166_1_alpha_2 = 'PL') AND (date BETWEEN '2020-03-01' AND '2021-09-15')\"\n",
    "query_type_of_daily = client.query(query)\n",
    "query_type_of_daily_result = query_type_of_daily.result()\n",
    "print(query_type_of_daily_result.to_dataframe())\n",
    "\n",
    "\n",
    "query = \"SELECT cumulative_confirmed,date FROM `bigquery-public-data.covid19_open_data.covid19_open_data` WHERE (aggregation_level = 0) AND (iso_3166_1_alpha_3 = 'POL') AND (date = '2021-09-15') ORDER BY date;\"\n",
    "query_type_of_daily = client.query(query)\n",
    "query_type_of_daily_result = query_type_of_daily.result()\n",
    "print(query_type_of_daily_result.to_dataframe())\n"
   ],
   "id": "2bf0503caacc5011",
   "outputs": [
    {
     "name": "stdout",
     "output_type": "stream",
     "text": [
      "   sum_of_confirmed        date\n",
      "0           2902130  2021-09-15\n",
      "   cumulative_confirmed        date\n",
      "0               2898599  2021-09-15\n"
     ]
    }
   ],
   "execution_count": 11
  },
  {
   "metadata": {},
   "cell_type": "markdown",
   "source": "Powyżej widać ciekawą zależność, że po pewnym czasie dane zaczynają sie \"rozjeżdżać\" jednak wynika to z faktu jak władze w poszczególnych momentach podchodziły do liczenia, jednak nie zmieniano już istniejących danych. Dodatkowo wartym zauważenie jest fakt, że dane \"na kraj\" posiadają aggregation level = 0.",
   "id": "1807bba99911b410"
  },
  {
   "metadata": {},
   "cell_type": "markdown",
   "source": " 3.5. Sprawdź, jaki przedział czasowy jest uwzględniony w danych. Dodatkowo porównaj przedziały czasowe dla przypadków nowych zachorowań, nowych śmierci oraz nowych zaszczepionych osób w danych.\n",
   "id": "c4992727cd23e72b"
  },
  {
   "metadata": {
    "ExecuteTime": {
     "end_time": "2025-03-21T00:26:04.471736Z",
     "start_time": "2025-03-21T00:25:55.102672Z"
    }
   },
   "cell_type": "code",
   "source": [
    "query = \"SELECT MIN(date) AS minimal_date_total, MAX(date) as maximum_date_total FROM `bigquery-public-data.covid19_open_data.covid19_open_data` WHERE (aggregation_level = 0)\"\n",
    "query_time_boundaries = client.query(query)\n",
    "query_time_boundaries_result = query_time_boundaries.result()\n",
    "print(\"Zakres calego zbioru danych\")\n",
    "print(query_time_boundaries_result.to_dataframe())\n",
    "query = \"SELECT MIN(date) AS minimal_date_of_new_cases, MAX(date) as maximum_date_of_new_cases FROM `bigquery-public-data.covid19_open_data.covid19_open_data` WHERE (aggregation_level = 0) AND (new_confirmed IS NOT NULL) AND (new_confirmed > 0)\"\n",
    "query_time_boundaries_result = client.query(query).result()\n",
    "print(query_time_boundaries_result.to_dataframe())\n",
    "query = \"SELECT MIN(date) AS minimal_date_of_new_deaths, MAX(date) as maximum_date_of_new_deaths FROM `bigquery-public-data.covid19_open_data.covid19_open_data` WHERE (aggregation_level = 0) AND (new_deceased IS NOT NULL) AND (new_deceased > 0)\"\n",
    "query_time_boundaries_result = client.query(query).result()\n",
    "print(query_time_boundaries_result.to_dataframe())\n",
    "query = \"SELECT MIN(date) AS minimal_date_of_new_vaccinated, MAX(date) as maximum_date_of_new_vaccinated FROM `bigquery-public-data.covid19_open_data.covid19_open_data` WHERE (aggregation_level = 0) AND (new_persons_vaccinated IS NOT NULL) AND (new_persons_vaccinated > 0)\"\n",
    "query_time_boundaries_result = client.query(query).result()\n",
    "print(query_time_boundaries_result.to_dataframe())"
   ],
   "id": "5d3c70123df7cc25",
   "outputs": [
    {
     "name": "stdout",
     "output_type": "stream",
     "text": [
      "Zakres calego zbioru danych\n",
      "  minimal_date_total maximum_date_total\n",
      "0         2020-01-01         2022-09-17\n",
      "  minimal_date_of_new_cases maximum_date_of_new_cases\n",
      "0                2020-01-01                2022-09-15\n",
      "  minimal_date_of_new_deaths maximum_date_of_new_deaths\n",
      "0                 2020-01-02                 2022-09-15\n",
      "  minimal_date_of_new_vaccinated maximum_date_of_new_vaccinated\n",
      "0                     2020-12-07                     2022-09-14\n"
     ]
    }
   ],
   "execution_count": 12
  },
  {
   "metadata": {},
   "cell_type": "markdown",
   "source": [
    " 3.6. Sprawdź więcej informacji (co najmniej 5 różnych) o danych dotyczących COVID-19. W tym celu nie wykonuj żadnych dodatkowych obliczeń. \n",
    "\n"
   ],
   "id": "78c3fbcb427db166"
  },
  {
   "metadata": {
    "ExecuteTime": {
     "end_time": "2025-03-21T00:26:06.994470Z",
     "start_time": "2025-03-21T00:26:04.488108Z"
    }
   },
   "cell_type": "code",
   "source": [
    "#Zapytanie pokazuje nam kraje które wpowadzały bardzo rygorystyczne obostrzenia oraz kiedy to było\n",
    "query = \"WITH max_value AS (SELECT MAX(stringency_index) AS max_index FROM `bigquery-public-data.covid19_open_data.covid19_open_data`) SELECT country_name, date, stringency_index FROM `bigquery-public-data.covid19_open_data.covid19_open_data`, max_value WHERE stringency_index = max_value.max_index LIMIT 10\"\n",
    "query_strict = client.query(query)\n",
    "query_strict_result = query_strict.result()\n",
    "query_strict_result.to_dataframe()"
   ],
   "id": "1fe1e891247a8e1d",
   "outputs": [
    {
     "data": {
      "text/plain": [
       "  country_name        date  stringency_index\n",
       "0    Argentina  2020-04-06             100.0\n",
       "1      Georgia  2020-04-15             100.0\n",
       "2        Libya  2020-05-24             100.0\n",
       "3  El Salvador  2020-05-11             100.0\n",
       "4  Philippines  2020-04-23             100.0\n",
       "5  Philippines  2020-04-29             100.0\n",
       "6     Honduras  2020-06-06             100.0\n",
       "7       Kuwait  2020-05-17             100.0\n",
       "8       Kuwait  2020-05-21             100.0\n",
       "9      Georgia  2020-04-25             100.0"
      ],
      "text/html": [
       "<div>\n",
       "<style scoped>\n",
       "    .dataframe tbody tr th:only-of-type {\n",
       "        vertical-align: middle;\n",
       "    }\n",
       "\n",
       "    .dataframe tbody tr th {\n",
       "        vertical-align: top;\n",
       "    }\n",
       "\n",
       "    .dataframe thead th {\n",
       "        text-align: right;\n",
       "    }\n",
       "</style>\n",
       "<table border=\"1\" class=\"dataframe\">\n",
       "  <thead>\n",
       "    <tr style=\"text-align: right;\">\n",
       "      <th></th>\n",
       "      <th>country_name</th>\n",
       "      <th>date</th>\n",
       "      <th>stringency_index</th>\n",
       "    </tr>\n",
       "  </thead>\n",
       "  <tbody>\n",
       "    <tr>\n",
       "      <th>0</th>\n",
       "      <td>Argentina</td>\n",
       "      <td>2020-04-06</td>\n",
       "      <td>100.0</td>\n",
       "    </tr>\n",
       "    <tr>\n",
       "      <th>1</th>\n",
       "      <td>Georgia</td>\n",
       "      <td>2020-04-15</td>\n",
       "      <td>100.0</td>\n",
       "    </tr>\n",
       "    <tr>\n",
       "      <th>2</th>\n",
       "      <td>Libya</td>\n",
       "      <td>2020-05-24</td>\n",
       "      <td>100.0</td>\n",
       "    </tr>\n",
       "    <tr>\n",
       "      <th>3</th>\n",
       "      <td>El Salvador</td>\n",
       "      <td>2020-05-11</td>\n",
       "      <td>100.0</td>\n",
       "    </tr>\n",
       "    <tr>\n",
       "      <th>4</th>\n",
       "      <td>Philippines</td>\n",
       "      <td>2020-04-23</td>\n",
       "      <td>100.0</td>\n",
       "    </tr>\n",
       "    <tr>\n",
       "      <th>5</th>\n",
       "      <td>Philippines</td>\n",
       "      <td>2020-04-29</td>\n",
       "      <td>100.0</td>\n",
       "    </tr>\n",
       "    <tr>\n",
       "      <th>6</th>\n",
       "      <td>Honduras</td>\n",
       "      <td>2020-06-06</td>\n",
       "      <td>100.0</td>\n",
       "    </tr>\n",
       "    <tr>\n",
       "      <th>7</th>\n",
       "      <td>Kuwait</td>\n",
       "      <td>2020-05-17</td>\n",
       "      <td>100.0</td>\n",
       "    </tr>\n",
       "    <tr>\n",
       "      <th>8</th>\n",
       "      <td>Kuwait</td>\n",
       "      <td>2020-05-21</td>\n",
       "      <td>100.0</td>\n",
       "    </tr>\n",
       "    <tr>\n",
       "      <th>9</th>\n",
       "      <td>Georgia</td>\n",
       "      <td>2020-04-25</td>\n",
       "      <td>100.0</td>\n",
       "    </tr>\n",
       "  </tbody>\n",
       "</table>\n",
       "</div>"
      ]
     },
     "execution_count": 13,
     "metadata": {},
     "output_type": "execute_result"
    }
   ],
   "execution_count": 13
  },
  {
   "metadata": {
    "ExecuteTime": {
     "end_time": "2025-03-21T00:26:09.525741Z",
     "start_time": "2025-03-21T00:26:07.045356Z"
    }
   },
   "cell_type": "code",
   "source": [
    "#Zapytanie pokazuje nam kraj oraz date gdy wyszukiwanie odnosnie kaszlu w tym rejonie miało największą wartość - względem całej pandemii na całym świecie to TUTAJ w tym momencie wyszukiwano ten objaw wtedy najwięcej względem innych wyszukiwań w tym kraju. \n",
    "query = \"WITH max_value AS (SELECT MAX(search_trends_cough) AS max_search_trend_cough FROM `bigquery-public-data.covid19_open_data.covid19_open_data` WHERE aggregation_level = 0) SELECT country_name, date,search_trends_cough  FROM `bigquery-public-data.covid19_open_data.covid19_open_data`, max_value WHERE (aggregation_level = 0) AND (search_trends_cough = max_value.max_search_trend_cough) AND (search_trends_cough IS NOT NULL) LIMIT 10\"\n",
    "query_cough = client.query(query)\n",
    "query_cough_result = query_cough.result()\n",
    "query_cough_result.to_dataframe()"
   ],
   "id": "b75a74a44a5682a4",
   "outputs": [
    {
     "data": {
      "text/plain": [
       "  country_name        date  search_trends_cough\n",
       "0  New Zealand  2020-02-16                38.08"
      ],
      "text/html": [
       "<div>\n",
       "<style scoped>\n",
       "    .dataframe tbody tr th:only-of-type {\n",
       "        vertical-align: middle;\n",
       "    }\n",
       "\n",
       "    .dataframe tbody tr th {\n",
       "        vertical-align: top;\n",
       "    }\n",
       "\n",
       "    .dataframe thead th {\n",
       "        text-align: right;\n",
       "    }\n",
       "</style>\n",
       "<table border=\"1\" class=\"dataframe\">\n",
       "  <thead>\n",
       "    <tr style=\"text-align: right;\">\n",
       "      <th></th>\n",
       "      <th>country_name</th>\n",
       "      <th>date</th>\n",
       "      <th>search_trends_cough</th>\n",
       "    </tr>\n",
       "  </thead>\n",
       "  <tbody>\n",
       "    <tr>\n",
       "      <th>0</th>\n",
       "      <td>New Zealand</td>\n",
       "      <td>2020-02-16</td>\n",
       "      <td>38.08</td>\n",
       "    </tr>\n",
       "  </tbody>\n",
       "</table>\n",
       "</div>"
      ]
     },
     "execution_count": 14,
     "metadata": {},
     "output_type": "execute_result"
    }
   ],
   "execution_count": 14
  },
  {
   "metadata": {
    "ExecuteTime": {
     "end_time": "2025-03-21T00:28:36.057022Z",
     "start_time": "2025-03-21T00:28:33.675404Z"
    }
   },
   "cell_type": "code",
   "source": [
    "#Gdzie było przewidywane najdłuższe życie i w którym momencie.\n",
    "query = \"WITH max_value AS (SELECT MAX(life_expectancy) AS max_life_expectancy FROM `bigquery-public-data.covid19_open_data.covid19_open_data` WHERE aggregation_level = 0) SELECT country_name, date, life_expectancy  FROM `bigquery-public-data.covid19_open_data.covid19_open_data`, max_value WHERE (aggregation_level = 0) AND (life_expectancy = max_value.max_life_expectancy) AND (life_expectancy IS NOT NULL) LIMIT 10\"\n",
    "query_life_expectancy = client.query(query)\n",
    "query_life_expectancy_result = query_life_expectancy.result()\n",
    "query_life_expectancy_result.to_dataframe()"
   ],
   "id": "a22652d3fd5485ce",
   "outputs": [
    {
     "data": {
      "text/plain": [
       "  country_name        date life_expectancy\n",
       "0   San Marino  2022-08-01        85.41707\n",
       "1   San Marino  2021-09-21        85.41707\n",
       "2   San Marino  2020-11-24        85.41707\n",
       "3   San Marino  2021-11-29        85.41707\n",
       "4   San Marino  2020-01-26        85.41707\n",
       "5   San Marino  2020-02-19        85.41707\n",
       "6   San Marino  2020-09-21        85.41707\n",
       "7   San Marino  2020-05-26        85.41707\n",
       "8   San Marino  2020-07-13        85.41707\n",
       "9   San Marino  2021-05-23        85.41707"
      ],
      "text/html": [
       "<div>\n",
       "<style scoped>\n",
       "    .dataframe tbody tr th:only-of-type {\n",
       "        vertical-align: middle;\n",
       "    }\n",
       "\n",
       "    .dataframe tbody tr th {\n",
       "        vertical-align: top;\n",
       "    }\n",
       "\n",
       "    .dataframe thead th {\n",
       "        text-align: right;\n",
       "    }\n",
       "</style>\n",
       "<table border=\"1\" class=\"dataframe\">\n",
       "  <thead>\n",
       "    <tr style=\"text-align: right;\">\n",
       "      <th></th>\n",
       "      <th>country_name</th>\n",
       "      <th>date</th>\n",
       "      <th>life_expectancy</th>\n",
       "    </tr>\n",
       "  </thead>\n",
       "  <tbody>\n",
       "    <tr>\n",
       "      <th>0</th>\n",
       "      <td>San Marino</td>\n",
       "      <td>2022-08-01</td>\n",
       "      <td>85.41707</td>\n",
       "    </tr>\n",
       "    <tr>\n",
       "      <th>1</th>\n",
       "      <td>San Marino</td>\n",
       "      <td>2021-09-21</td>\n",
       "      <td>85.41707</td>\n",
       "    </tr>\n",
       "    <tr>\n",
       "      <th>2</th>\n",
       "      <td>San Marino</td>\n",
       "      <td>2020-11-24</td>\n",
       "      <td>85.41707</td>\n",
       "    </tr>\n",
       "    <tr>\n",
       "      <th>3</th>\n",
       "      <td>San Marino</td>\n",
       "      <td>2021-11-29</td>\n",
       "      <td>85.41707</td>\n",
       "    </tr>\n",
       "    <tr>\n",
       "      <th>4</th>\n",
       "      <td>San Marino</td>\n",
       "      <td>2020-01-26</td>\n",
       "      <td>85.41707</td>\n",
       "    </tr>\n",
       "    <tr>\n",
       "      <th>5</th>\n",
       "      <td>San Marino</td>\n",
       "      <td>2020-02-19</td>\n",
       "      <td>85.41707</td>\n",
       "    </tr>\n",
       "    <tr>\n",
       "      <th>6</th>\n",
       "      <td>San Marino</td>\n",
       "      <td>2020-09-21</td>\n",
       "      <td>85.41707</td>\n",
       "    </tr>\n",
       "    <tr>\n",
       "      <th>7</th>\n",
       "      <td>San Marino</td>\n",
       "      <td>2020-05-26</td>\n",
       "      <td>85.41707</td>\n",
       "    </tr>\n",
       "    <tr>\n",
       "      <th>8</th>\n",
       "      <td>San Marino</td>\n",
       "      <td>2020-07-13</td>\n",
       "      <td>85.41707</td>\n",
       "    </tr>\n",
       "    <tr>\n",
       "      <th>9</th>\n",
       "      <td>San Marino</td>\n",
       "      <td>2021-05-23</td>\n",
       "      <td>85.41707</td>\n",
       "    </tr>\n",
       "  </tbody>\n",
       "</table>\n",
       "</div>"
      ]
     },
     "execution_count": 20,
     "metadata": {},
     "output_type": "execute_result"
    }
   ],
   "execution_count": 20
  },
  {
   "metadata": {
    "ExecuteTime": {
     "end_time": "2025-03-21T00:29:16.529684Z",
     "start_time": "2025-03-21T00:29:14.242174Z"
    }
   },
   "cell_type": "code",
   "source": [
    "#Liczba aktywnych przypadków gdzie potrzebowano respiratorów.\n",
    "query = \"SELECT country_name, current_ventilator_patients, date FROM `bigquery-public-data.covid19_open_data.covid19_open_data` WHERE (aggregation_level = 0) AND (current_ventilator_patients IS NOT NULL) LIMIT 10\"\n",
    "query_ventilator_patients = client.query(query)\n",
    "query_ventilator_patients_result = query_ventilator_patients.result()\n",
    "query_ventilator_patients_result.to_dataframe()"
   ],
   "id": "b6d48aa638b822e4",
   "outputs": [
    {
     "data": {
      "text/plain": [
       "               country_name  current_ventilator_patients        date\n",
       "0                  Malaysia                          144  2021-04-19\n",
       "1                  Malaysia                            3  2020-07-13\n",
       "2                  Malaysia                          129  2021-04-17\n",
       "3                  Malaysia                          932  2021-08-06\n",
       "4                  Malaysia                           56  2022-02-03\n",
       "5                  Malaysia                          824  2021-08-28\n",
       "6                  Malaysia                          107  2021-03-28\n",
       "7                  Malaysia                          603  2021-06-12\n",
       "8                      Peru                         1092  2020-10-22\n",
       "9  United States of America                         4714  2020-05-22"
      ],
      "text/html": [
       "<div>\n",
       "<style scoped>\n",
       "    .dataframe tbody tr th:only-of-type {\n",
       "        vertical-align: middle;\n",
       "    }\n",
       "\n",
       "    .dataframe tbody tr th {\n",
       "        vertical-align: top;\n",
       "    }\n",
       "\n",
       "    .dataframe thead th {\n",
       "        text-align: right;\n",
       "    }\n",
       "</style>\n",
       "<table border=\"1\" class=\"dataframe\">\n",
       "  <thead>\n",
       "    <tr style=\"text-align: right;\">\n",
       "      <th></th>\n",
       "      <th>country_name</th>\n",
       "      <th>current_ventilator_patients</th>\n",
       "      <th>date</th>\n",
       "    </tr>\n",
       "  </thead>\n",
       "  <tbody>\n",
       "    <tr>\n",
       "      <th>0</th>\n",
       "      <td>Malaysia</td>\n",
       "      <td>144</td>\n",
       "      <td>2021-04-19</td>\n",
       "    </tr>\n",
       "    <tr>\n",
       "      <th>1</th>\n",
       "      <td>Malaysia</td>\n",
       "      <td>3</td>\n",
       "      <td>2020-07-13</td>\n",
       "    </tr>\n",
       "    <tr>\n",
       "      <th>2</th>\n",
       "      <td>Malaysia</td>\n",
       "      <td>129</td>\n",
       "      <td>2021-04-17</td>\n",
       "    </tr>\n",
       "    <tr>\n",
       "      <th>3</th>\n",
       "      <td>Malaysia</td>\n",
       "      <td>932</td>\n",
       "      <td>2021-08-06</td>\n",
       "    </tr>\n",
       "    <tr>\n",
       "      <th>4</th>\n",
       "      <td>Malaysia</td>\n",
       "      <td>56</td>\n",
       "      <td>2022-02-03</td>\n",
       "    </tr>\n",
       "    <tr>\n",
       "      <th>5</th>\n",
       "      <td>Malaysia</td>\n",
       "      <td>824</td>\n",
       "      <td>2021-08-28</td>\n",
       "    </tr>\n",
       "    <tr>\n",
       "      <th>6</th>\n",
       "      <td>Malaysia</td>\n",
       "      <td>107</td>\n",
       "      <td>2021-03-28</td>\n",
       "    </tr>\n",
       "    <tr>\n",
       "      <th>7</th>\n",
       "      <td>Malaysia</td>\n",
       "      <td>603</td>\n",
       "      <td>2021-06-12</td>\n",
       "    </tr>\n",
       "    <tr>\n",
       "      <th>8</th>\n",
       "      <td>Peru</td>\n",
       "      <td>1092</td>\n",
       "      <td>2020-10-22</td>\n",
       "    </tr>\n",
       "    <tr>\n",
       "      <th>9</th>\n",
       "      <td>United States of America</td>\n",
       "      <td>4714</td>\n",
       "      <td>2020-05-22</td>\n",
       "    </tr>\n",
       "  </tbody>\n",
       "</table>\n",
       "</div>"
      ]
     },
     "execution_count": 21,
     "metadata": {},
     "output_type": "execute_result"
    }
   ],
   "execution_count": 21
  },
  {
   "metadata": {
    "ExecuteTime": {
     "end_time": "2025-03-21T00:26:21.132070Z",
     "start_time": "2025-03-21T00:26:14.086074Z"
    }
   },
   "cell_type": "code",
   "source": [
    "# kraje w ktorych wiecej ludzi zyje na wsi niz w miastach\n",
    "query = \"SELECT DISTINCT country_name, population_urban , population_rural FROM `bigquery-public-data.covid19_open_data.covid19_open_data` WHERE (aggregation_level = 0) AND (population_urban IS NOT NULL) AND (population_rural IS NOT NULL) AND (population_rural > population_urban)\"\n",
    "query_more_rural = client.query(query)\n",
    "query_more_rural_result = query_more_rural.result()\n",
    "query_more_rural_result.to_dataframe()"
   ],
   "id": "425ec2687e013b16",
   "outputs": [
    {
     "data": {
      "text/plain": [
       "              country_name  population_urban  population_rural\n",
       "0               Micronesia             25963             87852\n",
       "1                     Mali           8479688          11178343\n",
       "2                Mauritius            515980            749731\n",
       "3             Sierra Leone           3319366           4493849\n",
       "4                  Senegal           7765706           8530658\n",
       "..                     ...               ...               ...\n",
       "62                 Moldova           1135502           1522135\n",
       "63                Pakistan          79927762         136637556\n",
       "64                   Sudan          14957233          27856005\n",
       "65  British Virgin Islands             14449             15581\n",
       "66                 Vietnam          35332140          61129966\n",
       "\n",
       "[67 rows x 3 columns]"
      ],
      "text/html": [
       "<div>\n",
       "<style scoped>\n",
       "    .dataframe tbody tr th:only-of-type {\n",
       "        vertical-align: middle;\n",
       "    }\n",
       "\n",
       "    .dataframe tbody tr th {\n",
       "        vertical-align: top;\n",
       "    }\n",
       "\n",
       "    .dataframe thead th {\n",
       "        text-align: right;\n",
       "    }\n",
       "</style>\n",
       "<table border=\"1\" class=\"dataframe\">\n",
       "  <thead>\n",
       "    <tr style=\"text-align: right;\">\n",
       "      <th></th>\n",
       "      <th>country_name</th>\n",
       "      <th>population_urban</th>\n",
       "      <th>population_rural</th>\n",
       "    </tr>\n",
       "  </thead>\n",
       "  <tbody>\n",
       "    <tr>\n",
       "      <th>0</th>\n",
       "      <td>Micronesia</td>\n",
       "      <td>25963</td>\n",
       "      <td>87852</td>\n",
       "    </tr>\n",
       "    <tr>\n",
       "      <th>1</th>\n",
       "      <td>Mali</td>\n",
       "      <td>8479688</td>\n",
       "      <td>11178343</td>\n",
       "    </tr>\n",
       "    <tr>\n",
       "      <th>2</th>\n",
       "      <td>Mauritius</td>\n",
       "      <td>515980</td>\n",
       "      <td>749731</td>\n",
       "    </tr>\n",
       "    <tr>\n",
       "      <th>3</th>\n",
       "      <td>Sierra Leone</td>\n",
       "      <td>3319366</td>\n",
       "      <td>4493849</td>\n",
       "    </tr>\n",
       "    <tr>\n",
       "      <th>4</th>\n",
       "      <td>Senegal</td>\n",
       "      <td>7765706</td>\n",
       "      <td>8530658</td>\n",
       "    </tr>\n",
       "    <tr>\n",
       "      <th>...</th>\n",
       "      <td>...</td>\n",
       "      <td>...</td>\n",
       "      <td>...</td>\n",
       "    </tr>\n",
       "    <tr>\n",
       "      <th>62</th>\n",
       "      <td>Moldova</td>\n",
       "      <td>1135502</td>\n",
       "      <td>1522135</td>\n",
       "    </tr>\n",
       "    <tr>\n",
       "      <th>63</th>\n",
       "      <td>Pakistan</td>\n",
       "      <td>79927762</td>\n",
       "      <td>136637556</td>\n",
       "    </tr>\n",
       "    <tr>\n",
       "      <th>64</th>\n",
       "      <td>Sudan</td>\n",
       "      <td>14957233</td>\n",
       "      <td>27856005</td>\n",
       "    </tr>\n",
       "    <tr>\n",
       "      <th>65</th>\n",
       "      <td>British Virgin Islands</td>\n",
       "      <td>14449</td>\n",
       "      <td>15581</td>\n",
       "    </tr>\n",
       "    <tr>\n",
       "      <th>66</th>\n",
       "      <td>Vietnam</td>\n",
       "      <td>35332140</td>\n",
       "      <td>61129966</td>\n",
       "    </tr>\n",
       "  </tbody>\n",
       "</table>\n",
       "<p>67 rows × 3 columns</p>\n",
       "</div>"
      ]
     },
     "execution_count": 17,
     "metadata": {},
     "output_type": "execute_result"
    }
   ],
   "execution_count": 17
  },
  {
   "cell_type": "markdown",
   "id": "a1db0b1c",
   "metadata": {},
   "source": [
    "Część 4\n",
    "\n",
    "Przeanalizuj poniższe przypadki. Zastanów się, jakie dane potrzebujesz do każdego z nich, a następnie zapisz je w osobnych, jak najprostszych obiektach DataFrame. Na tym etapie nie przetwarzaj ich. Zadbaj o czystość danych, m.in. usuń niepotrzebne puste wartości i duplikaty, zunifikuj sposób podawania informacji, zaproponuj sposób naprawy błędnych danych. Gotowe dane z obiektów DataFrame zapisz w osobnych plikach CSV."
   ]
  },
  {
   "cell_type": "markdown",
   "id": "a56cfb5f",
   "metadata": {},
   "source": [
    "4.1 \n",
    "Chcemy posiadać podstawowe dane o wszystkich krajach świata, które będą zrozumiałe dla człowieka oraz uniwersalne i potencjalnie przyszłościowe do dalszego przetwarzania."
   ]
  },
  {
   "cell_type": "code",
   "id": "334125a0",
   "metadata": {
    "ExecuteTime": {
     "end_time": "2025-03-21T00:44:32.475222Z",
     "start_time": "2025-03-21T00:44:30.112220Z"
    }
   },
   "source": [
    "query = \"\"\"\n",
    "SELECT DISTINCT \n",
    "    country_name,\n",
    "    iso_3166_1_alpha_3 AS `3 letter country code`\n",
    "FROM \n",
    "    `bigquery-public-data.covid19_open_data.covid19_open_data`\n",
    "WHERE \n",
    "    aggregation_level = 0\n",
    "\"\"\"\n",
    "# Wykonanie zapytania\n",
    "query_country = client.query(query)\n",
    "\n",
    "# Pobranie wyników zapytania\n",
    "query_country_result = query_country.result()\n",
    "\n",
    "# Tworzenie DataFrame z wyników\n",
    "country_df = query_country_result.to_dataframe()\n",
    "\n",
    "# Usunięcie wierszy z brakującymi wartościami\n",
    "country_df.dropna(inplace=True)\n",
    "\n",
    "# Zapisanie wyników do pliku CSV\n",
    "country_df.to_csv('results\\\\4_1country_data.csv', index=False)"
   ],
   "outputs": [],
   "execution_count": 26
  },
  {
   "cell_type": "markdown",
   "id": "836a7263",
   "metadata": {},
   "source": [
    " 4.2. Chcemy wygenerować statystyki dotyczące zachorowań na COVID-19 na całym świecie."
   ]
  },
  {
   "cell_type": "code",
   "id": "b5117d29",
   "metadata": {
    "ExecuteTime": {
     "end_time": "2025-03-21T00:45:11.496162Z",
     "start_time": "2025-03-21T00:45:09.533515Z"
    }
   },
   "source": [
    "query = \"\"\"\n",
    "SELECT \n",
    "    country_name,\n",
    "    iso_3166_1_alpha_3 AS `3 letter country code`,\n",
    "    SUM(new_confirmed) AS `Total confirmed cases`\n",
    "FROM \n",
    "    `bigquery-public-data.covid19_open_data.covid19_open_data`\n",
    "WHERE \n",
    "    aggregation_level = 0\n",
    "GROUP BY \n",
    "    country_name, iso_3166_1_alpha_3\n",
    "ORDER BY \n",
    "    country_name\n",
    "\"\"\"\n",
    "query_confirmed = client.query(query)\n",
    "query_confirmed_result = query_confirmed.result()\n",
    "confirmed_df = query_confirmed_result.to_dataframe()\n",
    "confirmed_df.dropna(inplace=True)\n",
    "confirmed_df.to_csv('results\\\\4_2disease_data.csv', index=False)"
   ],
   "outputs": [],
   "execution_count": 27
  },
  {
   "cell_type": "markdown",
   "id": "e5fad0e5",
   "metadata": {},
   "source": [
    " 4.3. Chcemy poznać efekty COVID-19 poprzez uwypuklenie problemu śmiertelności ludzi spowodowanej wirusem."
   ]
  },
  {
   "cell_type": "code",
   "id": "1424f79d",
   "metadata": {
    "ExecuteTime": {
     "end_time": "2025-03-21T00:46:07.566459Z",
     "start_time": "2025-03-21T00:46:04.861168Z"
    }
   },
   "source": [
    "query = \"\"\"\n",
    "SELECT \n",
    "    country_name,\n",
    "    iso_3166_1_alpha_3 AS `3 letter country code`,\n",
    "    SUM(new_deceased) AS `Total deceased`\n",
    "FROM \n",
    "    `bigquery-public-data.covid19_open_data.covid19_open_data`\n",
    "WHERE \n",
    "    aggregation_level = 0\n",
    "GROUP BY \n",
    "    country_name, iso_3166_1_alpha_3\n",
    "ORDER BY \n",
    "    country_name\n",
    "\"\"\"\n",
    "query_disease = client.query(query)\n",
    "query_disease_result = query_disease.result()\n",
    "disease_df = query_disease_result.to_dataframe()\n",
    "disease_df.dropna(inplace=True)\n",
    "disease_df.to_csv('results\\\\4_3deceased_data.csv', index=False)"
   ],
   "outputs": [],
   "execution_count": 28
  },
  {
   "cell_type": "markdown",
   "id": "efdbb456",
   "metadata": {},
   "source": [
    " 4.4. Chcemy zaobserwować trendy i zależności dotyczące szczepień na COVID-19.\n",
    " "
   ]
  },
  {
   "cell_type": "code",
   "id": "5a6c4e4a",
   "metadata": {
    "ExecuteTime": {
     "end_time": "2025-03-21T01:00:38.912005Z",
     "start_time": "2025-03-21T01:00:34.732141Z"
    }
   },
   "source": [
    "#TODO poprawic to trzeba jakie trendy?\n",
    "query = \"\"\"\n",
    "SELECT \n",
    "    country_name,\n",
    "    iso_3166_1_alpha_3 AS `3 letter country code`,\n",
    "    SUM(new_confirmed) AS `Total confirmed cases`,\n",
    "    SUM(new_persons_vaccinated) AS `Total vaccinations`\n",
    "FROM \n",
    "    `bigquery-public-data.covid19_open_data.covid19_open_data`\n",
    "WHERE \n",
    "    aggregation_level = 0\n",
    "GROUP BY \n",
    "    country_name, iso_3166_1_alpha_3\n",
    "ORDER BY \n",
    "    country_name\n",
    "\"\"\"\n",
    "query_vaccine = client.query(query)\n",
    "query_vaccine_result = query_vaccine.result()\n",
    "vaccine_df = query_vaccine_result.to_dataframe()\n",
    "vaccine_df.dropna(inplace=True)\n",
    "vaccine_df.to_csv('results\\\\4_4vaccine_data.csv', index=False)"
   ],
   "outputs": [],
   "execution_count": 29
  },
  {
   "cell_type": "markdown",
   "id": "5467fba0",
   "metadata": {},
   "source": [
    "4.5 Chcemy zaobserwować stosunek zgonów do zachorowań w danym kraju. Dodatkowo wyodrębnić kraj, który miał ten współczynnik najwyższy"
   ]
  },
  {
   "cell_type": "code",
   "id": "d8788155",
   "metadata": {
    "ExecuteTime": {
     "end_time": "2025-03-21T01:02:25.177030Z",
     "start_time": "2025-03-21T01:02:18.491274Z"
    }
   },
   "source": [
    "query = \"\"\"\n",
    "SELECT \n",
    "    country_name,\n",
    "    iso_3166_1_alpha_3 AS `3 letter country code`,\n",
    "    CASE \n",
    "        WHEN SUM(new_confirmed) = 0 THEN 0 \n",
    "        ELSE (SUM(new_deceased) * 100) / SUM(new_confirmed) \n",
    "    END AS `Deceased to Confirmed cases %`\n",
    "FROM \n",
    "    `bigquery-public-data.covid19_open_data.covid19_open_data`\n",
    "WHERE\n",
    "    aggregation_level = 0\n",
    "GROUP BY \n",
    "    country_name, iso_3166_1_alpha_3\n",
    "ORDER BY \n",
    "    country_name\n",
    "\"\"\"\n",
    "query_deceased_to_sick = client.query(query)\n",
    "query_deceased_to_sick_result = query_deceased_to_sick.result()\n",
    "query_deceased_to_sick_result_df = query_deceased_to_sick_result.to_dataframe()\n",
    "query_deceased_to_sick_result_df.dropna(inplace=True)\n",
    "query_deceased_to_sick_result_df.to_csv('results/4_5_deceased_to_convirmed.csv', index=False)\n",
    "\n",
    "\n",
    "query = \"\"\"\n",
    "SELECT \n",
    "    country_name,\n",
    "    iso_3166_1_alpha_3 AS `3 letter country code`,\n",
    "    CASE \n",
    "        WHEN SUM(new_confirmed) = 0 THEN 0 \n",
    "        ELSE (SUM(new_deceased) * 100) / SUM(new_confirmed) \n",
    "    END AS `Deceased to Confirmed cases %`\n",
    "FROM \n",
    "    `bigquery-public-data.covid19_open_data.covid19_open_data`\n",
    "WHERE\n",
    "    aggregation_level = 0\n",
    "GROUP BY \n",
    "    country_name, iso_3166_1_alpha_3\n",
    "ORDER BY \n",
    "    `Deceased to Confirmed cases %` DESC\n",
    "LIMIT 1\n",
    "\"\"\"\n",
    "query_deceased_to_sick_max = client.query(query)\n",
    "query_deceased_to_sick_result_max = query_deceased_to_sick_max.result()\n",
    "query_deceased_to_sick_result_df_max = query_deceased_to_sick_result_max.to_dataframe()\n",
    "query_deceased_to_sick_result_df_max.dropna(inplace=True)\n",
    "query_deceased_to_sick_result_df_max.to_csv('results/4_5_deceased_to_convirmed_max.csv', index=False)"
   ],
   "outputs": [],
   "execution_count": 30
  },
  {
   "cell_type": "markdown",
   "id": "a9270bb8",
   "metadata": {},
   "source": [
    "Część 5\n",
    "Połącz ze sobą wszystkie dane otrzymane w części 4. Nowy zbiór danych zapisz jako oddzielny obiekt DataFrame. Jeżeli uważasz, że należy stworzyć kilka takich obiektów, zrób to i zapisz swoje uzasadnienie. Pamiętaj o ciągłej konieczności zachowania czystości danych. Wynik tego zadania zapisz w pliku / plikach CSV."
   ]
  },
  {
   "cell_type": "code",
   "id": "13247952",
   "metadata": {
    "ExecuteTime": {
     "end_time": "2025-03-21T01:02:59.151499Z",
     "start_time": "2025-03-21T01:02:59.104405Z"
    }
   },
   "source": [
    "# Łączenie danych o krajach i potwierdzonych przypadkach chorób na podstawie kodu kraju i nazwy kraju\n",
    "merged_country_disease = pd.merge(country_df, confirmed_df, on=['3 letter country code', 'country_name'])\n",
    "\n",
    "# Dodanie informacji o zgonach\n",
    "merged_country_disease_deceased = pd.merge(merged_country_disease, disease_df, on=['3 letter country code', 'country_name'])\n",
    "\n",
    "# Dodanie danych o szczepieniach\n",
    "merged_country_disease_deceased_vaccine = pd.merge(merged_country_disease_deceased, vaccine_df, on=['3 letter country code', 'country_name'])\n",
    "# Łączenie wszystkich danych z wynikami zapytań dotyczących stosunku zgonów do zakażeń\n",
    "\n",
    "merged_all = pd.merge(merged_country_disease_deceased_vaccine, query_deceased_to_sick_result_df, on=['3 letter country code'])\n",
    "\n",
    "# Usunięcie powtarzającej się kolumn i renamowanie\n",
    "merged_all = merged_all.drop(columns=['Total confirmed cases_y'])\n",
    "merged_all = merged_all.rename(columns={'Total confirmed cases_x': 'Total confirmed cases'})\n",
    "merged_all = merged_all.drop(columns=['country_name_y'])\n",
    "merged_all = merged_all.rename(columns={'country_name_x':'Country Name'})\n",
    "\n",
    "merged_all.to_csv('results\\\\5task_merged.csv', index=False)\n",
    "\n",
    "# Ponowne łączenie danych, ale z tylko z maksymalną wartościami z wyników zapytań\n",
    "merged_all_one_max = pd.merge(merged_country_disease_deceased_vaccine, query_deceased_to_sick_result_df_max, on=['3 letter country code'])\n",
    "\n",
    "# Usunięcie powtarzającej się kolumn i renamowanie\n",
    "merged_all_one_max = merged_all_one_max.drop(columns=['Total confirmed cases_y'])\n",
    "merged_all_one_max = merged_all_one_max.rename(columns={'Total confirmed cases_x': 'Total confirmed cases'})\n",
    "merged_all_one_max = merged_all_one_max.drop(columns=['country_name_y'])\n",
    "merged_all_one_max = merged_all_one_max.rename(columns={'country_name_x':'Country Name'})\n",
    "\n",
    "merged_all_one_max.to_csv('results\\\\5task_merged_max.csv', index=False)"
   ],
   "outputs": [],
   "execution_count": 31
  },
  {
   "cell_type": "code",
   "id": "00eb0e13",
   "metadata": {
    "ExecuteTime": {
     "end_time": "2025-03-21T01:03:05.104005Z",
     "start_time": "2025-03-21T01:03:05.098970Z"
    }
   },
   "source": [
    "print(merged_country_disease_deceased.columns)\n",
    "print(vaccine_df.columns)\n"
   ],
   "outputs": [
    {
     "name": "stdout",
     "output_type": "stream",
     "text": [
      "Index(['country_name', '3 letter country code', 'Total confirmed cases',\n",
      "       'Total deceased'],\n",
      "      dtype='object')\n",
      "Index(['country_name', '3 letter country code', 'Total confirmed cases',\n",
      "       'Total vaccinations'],\n",
      "      dtype='object')\n"
     ]
    }
   ],
   "execution_count": 32
  },
  {
   "cell_type": "markdown",
   "id": "21739d62",
   "metadata": {},
   "source": [
    "6. Połącz ze sobą dane otrzymane w części 5 oraz dane znajdujące się w plikach:"
   ]
  },
  {
   "cell_type": "markdown",
   "id": "40ce50cb",
   "metadata": {},
   "source": [
    "Podstawowe dane dotyczące krajów na całym świecie razem z historycznymi danymi na temat ich populacji"
   ]
  },
  {
   "cell_type": "code",
   "id": "931a0d19",
   "metadata": {
    "ExecuteTime": {
     "end_time": "2025-03-21T01:03:33.166872Z",
     "start_time": "2025-03-21T01:03:33.137486Z"
    }
   },
   "source": [
    "world_countries_df = pd.read_csv('data\\\\world_countries.csv')\n",
    "gdp_df = pd.read_csv('data\\\\gdp.csv')\n",
    "\n",
    "merged_df_world_countries_for_countries = pd.merge(merged_all, world_countries_df, left_on='Country Name', right_on='Country/Territory')\n",
    "merged_df_world_countries_for_countries.drop('3 letter country code', axis=1, inplace=True)\n",
    "merged_df_world_countries_for_countries.drop('Country/Territory', axis=1, inplace=True)\n",
    "merged_df_world_countries_for_countries.to_csv('results\\\\6_1_merged.csv', index=False)"
   ],
   "outputs": [],
   "execution_count": 33
  },
  {
   "cell_type": "markdown",
   "id": "dc45d0aa",
   "metadata": {},
   "source": [
    "Wartości produktu krajowego brutto (w skrócie PKB, ang. GDP - gross domestic product) w krajach i regionach świata. Kolejno zawarto: "
   ]
  },
  {
   "cell_type": "code",
   "id": "472f5be5",
   "metadata": {
    "ExecuteTime": {
     "end_time": "2025-03-21T01:03:37.679057Z",
     "start_time": "2025-03-21T01:03:36.843923Z"
    }
   },
   "source": [
    "merged_df_data = pd.merge(merged_df_world_countries_for_countries, gdp_df, left_on='Country Name', right_on='Country Name')\n",
    "merged_df_data.drop('3 letter country code', axis=1, inplace=True)\n",
    "#TODO nie działa.\n",
    "merged_df_data.drop('Country Code', axis=1, inplace=True)\n",
    "merged_df_data.rename(columns={\"Value\" : \"GDP Value\"}, inplace=True)\n",
    "merged_df_data.to_csv('results\\\\6_2_merged.csv', index=False)"
   ],
   "outputs": [
    {
     "ename": "KeyError",
     "evalue": "\"['3 letter country code'] not found in axis\"",
     "output_type": "error",
     "traceback": [
      "\u001B[31m---------------------------------------------------------------------------\u001B[39m",
      "\u001B[31mKeyError\u001B[39m                                  Traceback (most recent call last)",
      "\u001B[36mCell\u001B[39m\u001B[36m \u001B[39m\u001B[32mIn[34]\u001B[39m\u001B[32m, line 2\u001B[39m\n\u001B[32m      1\u001B[39m merged_df_data = pd.merge(merged_df_world_countries_for_countries, gdp_df, left_on=\u001B[33m'\u001B[39m\u001B[33mCountry Name\u001B[39m\u001B[33m'\u001B[39m, right_on=\u001B[33m'\u001B[39m\u001B[33mCountry Name\u001B[39m\u001B[33m'\u001B[39m)\n\u001B[32m----> \u001B[39m\u001B[32m2\u001B[39m \u001B[43mmerged_df_data\u001B[49m\u001B[43m.\u001B[49m\u001B[43mdrop\u001B[49m\u001B[43m(\u001B[49m\u001B[33;43m'\u001B[39;49m\u001B[33;43m3 letter country code\u001B[39;49m\u001B[33;43m'\u001B[39;49m\u001B[43m,\u001B[49m\u001B[43m \u001B[49m\u001B[43maxis\u001B[49m\u001B[43m=\u001B[49m\u001B[32;43m1\u001B[39;49m\u001B[43m,\u001B[49m\u001B[43m \u001B[49m\u001B[43minplace\u001B[49m\u001B[43m=\u001B[49m\u001B[38;5;28;43;01mTrue\u001B[39;49;00m\u001B[43m)\u001B[49m\n\u001B[32m      3\u001B[39m merged_df_data.drop(\u001B[33m'\u001B[39m\u001B[33mCountry Code\u001B[39m\u001B[33m'\u001B[39m, axis=\u001B[32m1\u001B[39m, inplace=\u001B[38;5;28;01mTrue\u001B[39;00m)\n\u001B[32m      4\u001B[39m merged_df_data.rename(columns={\u001B[33m\"\u001B[39m\u001B[33mValue\u001B[39m\u001B[33m\"\u001B[39m : \u001B[33m\"\u001B[39m\u001B[33mGDP Value\u001B[39m\u001B[33m\"\u001B[39m}, inplace=\u001B[38;5;28;01mTrue\u001B[39;00m)\n",
      "\u001B[36mFile \u001B[39m\u001B[32m~\\Desktop\\Studia\\sem6\\BigData\\BigDataProject\\.venv\\Lib\\site-packages\\pandas\\core\\frame.py:5581\u001B[39m, in \u001B[36mDataFrame.drop\u001B[39m\u001B[34m(self, labels, axis, index, columns, level, inplace, errors)\u001B[39m\n\u001B[32m   5433\u001B[39m \u001B[38;5;28;01mdef\u001B[39;00m\u001B[38;5;250m \u001B[39m\u001B[34mdrop\u001B[39m(\n\u001B[32m   5434\u001B[39m     \u001B[38;5;28mself\u001B[39m,\n\u001B[32m   5435\u001B[39m     labels: IndexLabel | \u001B[38;5;28;01mNone\u001B[39;00m = \u001B[38;5;28;01mNone\u001B[39;00m,\n\u001B[32m   (...)\u001B[39m\u001B[32m   5442\u001B[39m     errors: IgnoreRaise = \u001B[33m\"\u001B[39m\u001B[33mraise\u001B[39m\u001B[33m\"\u001B[39m,\n\u001B[32m   5443\u001B[39m ) -> DataFrame | \u001B[38;5;28;01mNone\u001B[39;00m:\n\u001B[32m   5444\u001B[39m \u001B[38;5;250m    \u001B[39m\u001B[33;03m\"\"\"\u001B[39;00m\n\u001B[32m   5445\u001B[39m \u001B[33;03m    Drop specified labels from rows or columns.\u001B[39;00m\n\u001B[32m   5446\u001B[39m \n\u001B[32m   (...)\u001B[39m\u001B[32m   5579\u001B[39m \u001B[33;03m            weight  1.0     0.8\u001B[39;00m\n\u001B[32m   5580\u001B[39m \u001B[33;03m    \"\"\"\u001B[39;00m\n\u001B[32m-> \u001B[39m\u001B[32m5581\u001B[39m     \u001B[38;5;28;01mreturn\u001B[39;00m \u001B[38;5;28;43msuper\u001B[39;49m\u001B[43m(\u001B[49m\u001B[43m)\u001B[49m\u001B[43m.\u001B[49m\u001B[43mdrop\u001B[49m\u001B[43m(\u001B[49m\n\u001B[32m   5582\u001B[39m \u001B[43m        \u001B[49m\u001B[43mlabels\u001B[49m\u001B[43m=\u001B[49m\u001B[43mlabels\u001B[49m\u001B[43m,\u001B[49m\n\u001B[32m   5583\u001B[39m \u001B[43m        \u001B[49m\u001B[43maxis\u001B[49m\u001B[43m=\u001B[49m\u001B[43maxis\u001B[49m\u001B[43m,\u001B[49m\n\u001B[32m   5584\u001B[39m \u001B[43m        \u001B[49m\u001B[43mindex\u001B[49m\u001B[43m=\u001B[49m\u001B[43mindex\u001B[49m\u001B[43m,\u001B[49m\n\u001B[32m   5585\u001B[39m \u001B[43m        \u001B[49m\u001B[43mcolumns\u001B[49m\u001B[43m=\u001B[49m\u001B[43mcolumns\u001B[49m\u001B[43m,\u001B[49m\n\u001B[32m   5586\u001B[39m \u001B[43m        \u001B[49m\u001B[43mlevel\u001B[49m\u001B[43m=\u001B[49m\u001B[43mlevel\u001B[49m\u001B[43m,\u001B[49m\n\u001B[32m   5587\u001B[39m \u001B[43m        \u001B[49m\u001B[43minplace\u001B[49m\u001B[43m=\u001B[49m\u001B[43minplace\u001B[49m\u001B[43m,\u001B[49m\n\u001B[32m   5588\u001B[39m \u001B[43m        \u001B[49m\u001B[43merrors\u001B[49m\u001B[43m=\u001B[49m\u001B[43merrors\u001B[49m\u001B[43m,\u001B[49m\n\u001B[32m   5589\u001B[39m \u001B[43m    \u001B[49m\u001B[43m)\u001B[49m\n",
      "\u001B[36mFile \u001B[39m\u001B[32m~\\Desktop\\Studia\\sem6\\BigData\\BigDataProject\\.venv\\Lib\\site-packages\\pandas\\core\\generic.py:4788\u001B[39m, in \u001B[36mNDFrame.drop\u001B[39m\u001B[34m(self, labels, axis, index, columns, level, inplace, errors)\u001B[39m\n\u001B[32m   4786\u001B[39m \u001B[38;5;28;01mfor\u001B[39;00m axis, labels \u001B[38;5;129;01min\u001B[39;00m axes.items():\n\u001B[32m   4787\u001B[39m     \u001B[38;5;28;01mif\u001B[39;00m labels \u001B[38;5;129;01mis\u001B[39;00m \u001B[38;5;129;01mnot\u001B[39;00m \u001B[38;5;28;01mNone\u001B[39;00m:\n\u001B[32m-> \u001B[39m\u001B[32m4788\u001B[39m         obj = \u001B[43mobj\u001B[49m\u001B[43m.\u001B[49m\u001B[43m_drop_axis\u001B[49m\u001B[43m(\u001B[49m\u001B[43mlabels\u001B[49m\u001B[43m,\u001B[49m\u001B[43m \u001B[49m\u001B[43maxis\u001B[49m\u001B[43m,\u001B[49m\u001B[43m \u001B[49m\u001B[43mlevel\u001B[49m\u001B[43m=\u001B[49m\u001B[43mlevel\u001B[49m\u001B[43m,\u001B[49m\u001B[43m \u001B[49m\u001B[43merrors\u001B[49m\u001B[43m=\u001B[49m\u001B[43merrors\u001B[49m\u001B[43m)\u001B[49m\n\u001B[32m   4790\u001B[39m \u001B[38;5;28;01mif\u001B[39;00m inplace:\n\u001B[32m   4791\u001B[39m     \u001B[38;5;28mself\u001B[39m._update_inplace(obj)\n",
      "\u001B[36mFile \u001B[39m\u001B[32m~\\Desktop\\Studia\\sem6\\BigData\\BigDataProject\\.venv\\Lib\\site-packages\\pandas\\core\\generic.py:4830\u001B[39m, in \u001B[36mNDFrame._drop_axis\u001B[39m\u001B[34m(self, labels, axis, level, errors, only_slice)\u001B[39m\n\u001B[32m   4828\u001B[39m         new_axis = axis.drop(labels, level=level, errors=errors)\n\u001B[32m   4829\u001B[39m     \u001B[38;5;28;01melse\u001B[39;00m:\n\u001B[32m-> \u001B[39m\u001B[32m4830\u001B[39m         new_axis = \u001B[43maxis\u001B[49m\u001B[43m.\u001B[49m\u001B[43mdrop\u001B[49m\u001B[43m(\u001B[49m\u001B[43mlabels\u001B[49m\u001B[43m,\u001B[49m\u001B[43m \u001B[49m\u001B[43merrors\u001B[49m\u001B[43m=\u001B[49m\u001B[43merrors\u001B[49m\u001B[43m)\u001B[49m\n\u001B[32m   4831\u001B[39m     indexer = axis.get_indexer(new_axis)\n\u001B[32m   4833\u001B[39m \u001B[38;5;66;03m# Case for non-unique axis\u001B[39;00m\n\u001B[32m   4834\u001B[39m \u001B[38;5;28;01melse\u001B[39;00m:\n",
      "\u001B[36mFile \u001B[39m\u001B[32m~\\Desktop\\Studia\\sem6\\BigData\\BigDataProject\\.venv\\Lib\\site-packages\\pandas\\core\\indexes\\base.py:7070\u001B[39m, in \u001B[36mIndex.drop\u001B[39m\u001B[34m(self, labels, errors)\u001B[39m\n\u001B[32m   7068\u001B[39m \u001B[38;5;28;01mif\u001B[39;00m mask.any():\n\u001B[32m   7069\u001B[39m     \u001B[38;5;28;01mif\u001B[39;00m errors != \u001B[33m\"\u001B[39m\u001B[33mignore\u001B[39m\u001B[33m\"\u001B[39m:\n\u001B[32m-> \u001B[39m\u001B[32m7070\u001B[39m         \u001B[38;5;28;01mraise\u001B[39;00m \u001B[38;5;167;01mKeyError\u001B[39;00m(\u001B[33mf\u001B[39m\u001B[33m\"\u001B[39m\u001B[38;5;132;01m{\u001B[39;00mlabels[mask].tolist()\u001B[38;5;132;01m}\u001B[39;00m\u001B[33m not found in axis\u001B[39m\u001B[33m\"\u001B[39m)\n\u001B[32m   7071\u001B[39m     indexer = indexer[~mask]\n\u001B[32m   7072\u001B[39m \u001B[38;5;28;01mreturn\u001B[39;00m \u001B[38;5;28mself\u001B[39m.delete(indexer)\n",
      "\u001B[31mKeyError\u001B[39m: \"['3 letter country code'] not found in axis\""
     ]
    }
   ],
   "execution_count": 34
  }
 ],
 "metadata": {
  "kernelspec": {
   "display_name": ".venv",
   "language": "python",
   "name": "python3"
  },
  "language_info": {
   "codemirror_mode": {
    "name": "ipython",
    "version": 3
   },
   "file_extension": ".py",
   "mimetype": "text/x-python",
   "name": "python",
   "nbconvert_exporter": "python",
   "pygments_lexer": "ipython3",
   "version": "3.12.2"
  }
 },
 "nbformat": 4,
 "nbformat_minor": 5
}
